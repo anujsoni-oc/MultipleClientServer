import socket
s = socket.socket()
print('Socket creation successful')
port = int(input("Enter Port No.: "))
s.bind(('localhost', port))
no_of_client = int(input("Enter number of client: "))
s.listen(no_of_client)
print("Waiting for connections....")

while(True):
    c, addr = s.accept()
    name = c.recv(1024)
    name = name.decode("utf-8")
    print("Connected with " + name +" " + addr[0])
    c.send(str.encode("Connected to server"))
    
    while(True):
        message = c.recv(1024)
        message = message.decode("utf-8")
        print("Client socket {} sent message: {}".format(addr, message))
        if message != "Bye":
            c.send(str.encode("OK"))
            print("Replied to client {}".format(addr))
        else:
            c.send(str.encode("Goodbye"))
            print("Replied to client {}".format(addr))
            print("Client said bye, closing tthe connection.")
            break
    c.close()
    break

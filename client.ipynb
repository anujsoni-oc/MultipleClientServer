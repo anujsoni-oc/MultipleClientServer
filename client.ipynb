import socket

ClientSocket = socket.socket()
host = '127.0.0.1'
port = int(input("Enter Port number: "))

print('Waiting for connection')
try:
    ClientSocket.connect((host, port))
except socket.error as e:
    print(str(e))

Response = ClientSocket.recv(port)
while True:
    Input = input('Say Something: ')
    ClientSocket.send(str.encode(Input))
    Response = ClientSocket.recv(1024)
    if Response.decode('utf-8') == 'GoodBye':
        ClientSocket.close()
        break
    print(Response.decode('utf-8'))

ClientSocket.close()
